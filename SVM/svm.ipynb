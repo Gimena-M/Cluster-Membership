{
 "cells": [
  {
   "cell_type": "code",
   "execution_count": 1,
   "metadata": {},
   "outputs": [],
   "source": [
    "import pandas as pd\n",
    "import numpy as np\n",
    "import matplotlib.pyplot as plt\n",
    "import seaborn as sns\n",
    "# pd.set_option('display.max_columns', 30)"
   ]
  },
  {
   "attachments": {},
   "cell_type": "markdown",
   "metadata": {},
   "source": [
    "### Data"
   ]
  },
  {
   "cell_type": "code",
   "execution_count": 2,
   "metadata": {},
   "outputs": [
    {
     "name": "stdout",
     "output_type": "stream",
     "text": [
      "Members: 40238 (16.58%)\n",
      "Non members: 202457 (83.42%)\n"
     ]
    }
   ],
   "source": [
    "df1 = pd.read_csv('../DATA/clean-HSC-unWISE-W01.csv')\n",
    "df1 = df1.drop(columns = [f for f in df1.columns if ('isnull' in f)])\n",
    "df2 = pd.read_csv('../DATA/clean-HSC-unWISE-W02.csv')\n",
    "df2 = df2.drop(columns = [f for f in df2.columns if ('isnull' in f)])\n",
    "df = pd.concat([df1,df2], axis = 'rows')\n",
    "del df1,df2\n",
    "\n",
    "df['gr'] = df['g_cmodel_mag'] - df['r_cmodel_mag']\n",
    "df['ri'] = df['r_cmodel_mag'] - df['i_cmodel_mag']\n",
    "df['iz'] = df['i_cmodel_mag'] - df['z_cmodel_mag']\n",
    "df['zy'] = df['z_cmodel_mag'] - df['y_cmodel_mag']\n",
    "\n",
    "with open('../DATA/features1.txt') as file:\n",
    "    features = file.read().splitlines()\n",
    "labels = 'member'\n",
    "\n",
    "n_mem = df[df.member == 1].shape[0]\n",
    "n_no = df[df.member == 0].shape[0]\n",
    "n = df.shape[0]\n",
    "print ('Members: {} ({:.2f}%)'.format(n_mem, n_mem/n*100))\n",
    "print ('Non members: {} ({:.2f}%)'.format(n_no, n_no/n*100))\n",
    "del n,n_mem,n_no"
   ]
  },
  {
   "cell_type": "code",
   "execution_count": null,
   "metadata": {},
   "outputs": [],
   "source": [
    "# # Undersample majority class\n",
    "# from imblearn.under_sampling import RandomUnderSampler\n",
    "# rus = RandomUnderSampler(sampling_strategy= 4./6., replacement= False)\n",
    "# rus_feat, rus_lab = rus.fit_resample(df[features], df[labels])\n",
    "# rus_feat[labels] = rus_lab\n",
    "\n",
    "# df = rus_feat\n",
    "# del rus, rus_feat, rus_lab\n",
    "\n",
    "# n_mem = df[df.member == 1].shape[0]\n",
    "# n_no = df[df.member == 0].shape[0]\n",
    "# n = df.shape[0]\n",
    "# print ('Members: {} ({:.2f}%)'.format(n_mem, n_mem/n*100))\n",
    "# print ('Non members: {} ({:.2f}%)'.format(n_no, n_no/n*100))\n",
    "# del n,n_mem,n_no"
   ]
  },
  {
   "cell_type": "code",
   "execution_count": 4,
   "metadata": {},
   "outputs": [
    {
     "name": "stdout",
     "output_type": "stream",
     "text": [
      "Training: 26155 members, 131596 non members\n",
      "Testing: 14083 members, 70861 non members\n"
     ]
    }
   ],
   "source": [
    "from sklearn.model_selection import train_test_split\n",
    "train, test = train_test_split(df, test_size = 0.35, stratify = df[labels])\n",
    "print ('Training: {} members, {} non members'.format(train[train.member == 1].shape[0], train[train.member == 0].shape[0]))\n",
    "print ('Testing: {} members, {} non members'.format(test[test.member == 1].shape[0], test[test.member == 0].shape[0]))"
   ]
  },
  {
   "attachments": {},
   "cell_type": "markdown",
   "metadata": {},
   "source": [
    "### Model & Searches"
   ]
  },
  {
   "cell_type": "code",
   "execution_count": null,
   "metadata": {},
   "outputs": [],
   "source": [
    "# from sklearn.svm import SVC\n",
    "# model = SVC(probability= False, class_weight= 'balanced', verbose = False)\n",
    "\n",
    "# params = dict(\n",
    "#     C = [0.1, 1., 10],\n",
    "#     kernel = ['linear', 'poly', 'rbf', 'sigmoid'],\n",
    "#     degree = [2,3,4,7],\n",
    "#     gamma = ['scale', 0.005, 0.1, 1.],\n",
    "#     coef0 = [0, 1, -1],\n",
    "#     shrinking = [True, False], \n",
    "# )\n",
    "\n",
    "# from sklearn.model_selection import RandomizedSearchCV\n",
    "\n",
    "# rs = RandomizedSearchCV(estimator= model, param_distributions= params, cv= 3, n_jobs= -1,  verbose= 4, n_iter = 100)\n",
    "# rs.fit(df[features], df[labels])\n",
    "\n",
    "# df_rs = pd.DataFrame(rs.cv_results_)"
   ]
  },
  {
   "cell_type": "code",
   "execution_count": 6,
   "metadata": {},
   "outputs": [],
   "source": [
    "from sklearn.svm import SVC\n",
    "model = SVC(probability= True, class_weight= 'balanced', verbose = False, \n",
    "            C = 1.0, kernel= 'linear', degree = 1, gamma = 'scale', coef0 = 0, shrinking= True)\n",
    "\n",
    "model.fit(df[features], df[labels])"
   ]
  },
  {
   "attachments": {},
   "cell_type": "markdown",
   "metadata": {},
   "source": [
    "### Tests\n"
   ]
  },
  {
   "cell_type": "code",
   "execution_count": null,
   "metadata": {},
   "outputs": [],
   "source": [
    "# from sklearn.metrics import roc_curve, auc, precision_recall_curve, classification_report\n",
    "\n",
    "# pred = model.predict(test[features])\n",
    "# scores = model.predict_proba(test[features])\n",
    "# model_score = model.score(test[features], test[labels])\n",
    "\n",
    "# fpr, tpr, thresholds_roc = roc_curve(test[labels], scores[:,1], pos_label=1)\n",
    "# precision, recall, thresholds_pr = precision_recall_curve(test[labels], scores[:,1], pos_label= 1)\n",
    "\n",
    "# print(f'Model score: {model_score}')\n",
    "# print('ROC AUC: {}'.format(auc(fpr, tpr)))\n",
    "# print('Precision-recall AUC: {}'.format(auc(recall, precision)))\n",
    "# print('-'*70)\n",
    "# print(classification_report(test[labels],pred))"
   ]
  },
  {
   "cell_type": "code",
   "execution_count": null,
   "metadata": {},
   "outputs": [],
   "source": [
    "# from sklearn.metrics import confusion_matrix\n",
    "# plt.figure(figsize=(16,4))\n",
    "\n",
    "# # Confusion matrix\n",
    "# plt.subplot(1, 3, 1)\n",
    "# conf_m = confusion_matrix(test[labels], pred)\n",
    "# df_conf_m = pd.DataFrame(conf_m, index=[0,1], columns=[0,1])\n",
    "# sns.heatmap(df_conf_m, cmap=sns.color_palette('light:teal', as_cmap=True), annot=True, fmt='d')\n",
    "# plt.xlabel('Predicted')\n",
    "# plt.ylabel('True')\n",
    "\n",
    "# # ROC Curve\n",
    "# plt.subplot(1, 3, 2)\n",
    "# plt.plot(fpr, tpr)\n",
    "# plt.plot([0, 1], [0, 1], color='gray', linestyle='--')\n",
    "# plt.xlim([0.0, 1.0])\n",
    "# plt.ylim([0.0, 1.05])\n",
    "# plt.xlabel('FPR')\n",
    "# plt.ylabel('TPR')\n",
    "# plt.grid()\n",
    "\n",
    "# # Precision-recall curve\n",
    "# plt.subplot(1, 3, 3)\n",
    "# plt.plot(recall, precision)\n",
    "# plt.plot([0, 1], [len (test[test.member == 1])/len(test), len (test[test.member == 1])/len(test)] , color='gray', linestyle='--')\n",
    "# plt.xlabel('Recall')\n",
    "# plt.ylabel('Precision')\n",
    "# plt.grid()\n",
    "# plt.xlim([0,1])\n",
    "# plt.ylim([0,1])\n",
    "\n",
    "# plt.show()"
   ]
  },
  {
   "cell_type": "code",
   "execution_count": null,
   "metadata": {},
   "outputs": [],
   "source": [
    "importances = np.sort(model.feature_importances_)[::-1]\n",
    "sorted_features = [x for _,x in sorted(zip(model.feature_importances_, features))][::-1]\n",
    "\n",
    "plt.figure(figsize= (17, 10))\n",
    "plt.grid()\n",
    "sns.barplot(x = importances, y = sorted_features)"
   ]
  }
 ],
 "metadata": {
  "kernelspec": {
   "display_name": "tensorflow",
   "language": "python",
   "name": "python3"
  },
  "language_info": {
   "codemirror_mode": {
    "name": "ipython",
    "version": 3
   },
   "file_extension": ".py",
   "mimetype": "text/x-python",
   "name": "python",
   "nbconvert_exporter": "python",
   "pygments_lexer": "ipython3",
   "version": "3.10.9"
  },
  "orig_nbformat": 4
 },
 "nbformat": 4,
 "nbformat_minor": 2
}
