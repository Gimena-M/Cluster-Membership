{
 "cells": [
  {
   "cell_type": "code",
   "execution_count": 1,
   "id": "5f85d7fd-2eaf-44c2-85fa-e2874841e1d8",
   "metadata": {},
   "outputs": [],
   "source": [
    "import pandas as pd\n",
    "import numpy as np\n",
    "import matplotlib.pyplot as plt\n",
    "import seaborn as sns\n",
    "import math\n",
    "import csv"
   ]
  },
  {
   "cell_type": "code",
   "execution_count": 27,
   "id": "86cc4a0c-7f56-4ea0-ad84-fd07b34c9e0c",
   "metadata": {},
   "outputs": [],
   "source": [
    "df = pd.read_csv('HSC-unWISE-W02.csv')\n",
    "df = df.drop(columns = [f for f in df.columns if ('isnull' in f)])"
   ]
  },
  {
   "cell_type": "code",
   "execution_count": 39,
   "id": "7b93db4b-d404-4919-a968-969f9bf1cae0",
   "metadata": {},
   "outputs": [],
   "source": [
    "df['W2'] = df['W2'].replace(99., np.nan)"
   ]
  },
  {
   "cell_type": "code",
   "execution_count": 44,
   "id": "c95f6b99-8215-4316-b09f-76487bf96269",
   "metadata": {},
   "outputs": [
    {
     "data": {
      "text/plain": [
       "(array([False,  True]), array([112432, 150001], dtype=int64))"
      ]
     },
     "execution_count": 44,
     "metadata": {},
     "output_type": "execute_result"
    }
   ],
   "source": [
    "np.unique(df['W2_err'] == 99, return_counts= True)"
   ]
  },
  {
   "cell_type": "code",
   "execution_count": null,
   "id": "8aee6775-a4f2-458b-9475-2d64b7271ca9",
   "metadata": {},
   "outputs": [],
   "source": [
    "with open('features.txt', mode = 'r') as file:\n",
    "    features = file.read()"
   ]
  },
  {
   "cell_type": "code",
   "execution_count": 3,
   "id": "ba3729de-808a-4ef4-83e3-94044ce2ab4d",
   "metadata": {},
   "outputs": [],
   "source": [
    "features = ['g_cmodel_mag', 'r_cmodel_mag', 'i_cmodel_mag', 'z_cmodel_mag', 'y_cmodel_mag', \n",
    "            'g_cmodel_magsigma', 'r_cmodel_magsigma', 'i_cmodel_magsigma', 'z_cmodel_magsigma', 'y_cmodel_magsigma',\n",
    "            'g_cmodel_fracdev', 'r_cmodel_fracdev', 'i_cmodel_fracdev','z_cmodel_fracdev', 'y_cmodel_fracdev', \n",
    "            'r_kronflux_mag', 'i_kronflux_mag', 'z_kronflux_mag', 'y_kronflux_mag',\n",
    "            'g_kronflux_magsigma', 'r_kronflux_magsigma', 'i_kronflux_magsigma', 'z_kronflux_magsigma', 'i_kronflux_radius', \n",
    "            'g_sdssshape_shape11', 'r_sdssshape_shape11', 'i_sdssshape_shape11', 'y_sdssshape_shape11', 'z_sdssshape_shape11',\n",
    "            'g_sdssshape_shape12', 'r_sdssshape_shape12', 'i_sdssshape_shape12', 'z_sdssshape_shape12', 'z_sdssshape_shape22', \n",
    "            'g_sdssshape_shape22', 'r_sdssshape_shape22', 'i_sdssshape_shape22', 'z_sdssshape_shape22', 'z_sdssshape_shape22', \n",
    "            'g_sdssshape_shape11sigma', 'r_sdssshape_shape11sigma',  'i_sdssshape_shape11sigma', 'z_sdssshape_shape11sigma', 'y_sdssshape_shape11sigma', \n",
    "            'g_sdssshape_shape12sigma', 'r_sdssshape_shape12sigma', 'i_sdssshape_shape12sigma', 'z_sdssshape_shape12sigma',  \n",
    "            'g_sdssshape_shape22sigma', 'r_sdssshape_shape22sigma', 'i_sdssshape_shape22sigma', 'z_sdssshape_shape22sigma', 'y_sdssshape_shape22sigma',\n",
    "           ]"
   ]
  },
  {
   "cell_type": "code",
   "execution_count": 4,
   "id": "bf7cd793-2bc0-4ad7-a5fd-0b480dd5545d",
   "metadata": {},
   "outputs": [
    {
     "name": "stdout",
     "output_type": "stream",
     "text": [
      "g_cmodel_mag: 0.8795% NaN\n",
      "y_cmodel_mag: 0.3262% NaN\n",
      "g_cmodel_magsigma: 0.8795% NaN\n",
      "y_cmodel_magsigma: 0.3262% NaN\n",
      "g_cmodel_fracdev: 0.6051% NaN\n",
      "y_cmodel_fracdev: 0.2564% NaN\n",
      "r_kronflux_mag: 0.6585% NaN\n",
      "i_kronflux_mag: 0.6367% NaN\n",
      "z_kronflux_mag: 0.6661% NaN\n",
      "y_kronflux_mag: 1.2281% NaN\n",
      "g_kronflux_magsigma: 1.1832% NaN\n",
      "r_kronflux_magsigma: 0.6607% NaN\n",
      "i_kronflux_magsigma: 0.6367% NaN\n",
      "z_kronflux_magsigma: 0.6661% NaN\n",
      "i_kronflux_radius: 0.1898% NaN\n",
      "g_sdssshape_shape11: 1.8771% NaN\n",
      "r_sdssshape_shape11: 0.3513% NaN\n",
      "y_sdssshape_shape11: 0.9652% NaN\n",
      "z_sdssshape_shape11: 0.3368% NaN\n",
      "g_sdssshape_shape12: 1.8771% NaN\n",
      "r_sdssshape_shape12: 0.3513% NaN\n",
      "z_sdssshape_shape12: 0.3368% NaN\n",
      "z_sdssshape_shape22: 0.3368% NaN\n",
      "g_sdssshape_shape22: 1.8771% NaN\n",
      "r_sdssshape_shape22: 0.3513% NaN\n",
      "z_sdssshape_shape22: 0.3368% NaN\n",
      "z_sdssshape_shape22: 0.3368% NaN\n",
      "g_sdssshape_shape11sigma: 20.6133% NaN\n",
      "r_sdssshape_shape11sigma: 10.5829% NaN\n",
      "i_sdssshape_shape11sigma: 5.6159% NaN\n",
      "z_sdssshape_shape11sigma: 5.7497% NaN\n",
      "y_sdssshape_shape11sigma: 9.8132% NaN\n",
      "g_sdssshape_shape12sigma: 20.6133% NaN\n",
      "r_sdssshape_shape12sigma: 10.5829% NaN\n",
      "i_sdssshape_shape12sigma: 5.6159% NaN\n",
      "z_sdssshape_shape12sigma: 5.7497% NaN\n",
      "g_sdssshape_shape22sigma: 20.6133% NaN\n",
      "r_sdssshape_shape22sigma: 10.5829% NaN\n",
      "i_sdssshape_shape22sigma: 5.6159% NaN\n",
      "z_sdssshape_shape22sigma: 5.7497% NaN\n",
      "y_sdssshape_shape22sigma: 9.8132% NaN\n"
     ]
    }
   ],
   "source": [
    "#replace inf for NaN\n",
    "df = df.replace([np.inf, -np.inf], np.nan)     \n",
    "df['W2'] = df['W2'].replace(99., np.nan)\n",
    "df['W1'] = df['W1'].replace(99., np.nan)\n",
    "df['W2_err'] = df['W2_err'].replace(99., np.nan)\n",
    "df['W1_err'] = df['W1_err'].replace(99., np.nan)\n",
    "\n",
    "# check for NaN\n",
    "for f in features:\n",
    "    per = 100*len(np.where(df[f].isnull())[0])/df.shape[0]\n",
    "    if (per != 0):\n",
    "        print ('{}: {:.4f}% NaN'.format(f, per))\n",
    "\n",
    "# remove all rows with NaN in features\n",
    "df = df.dropna(subset = features, axis = 'index')"
   ]
  },
  {
   "cell_type": "code",
   "execution_count": 12,
   "id": "01ace0df-bc05-4733-a544-e3b96c1abff6",
   "metadata": {},
   "outputs": [],
   "source": [
    "limits = dict()\n",
    "with open('limits.csv', mode = 'r') as file:\n",
    "    reader = csv.reader(file, delimiter=';')\n",
    "    next(reader, None) #skip header\n",
    "    for i in reader:\n",
    "        limits[i[0]] = (float(i[1]),float(i[2]))"
   ]
  },
  {
   "cell_type": "code",
   "execution_count": 24,
   "id": "d8389c39-dd66-44f1-b84b-33bcbf9e31ba",
   "metadata": {},
   "outputs": [],
   "source": [
    "for f in features:\n",
    "    if f in limits.keys():\n",
    "        df = df[ \n",
    "            (df[f] >= limits[f][0]) &\n",
    "            (df[f] <= limits[f][1]) \n",
    "        ]\n",
    "    else:\n",
    "        print(f, ' not found')"
   ]
  },
  {
   "cell_type": "code",
   "execution_count": null,
   "id": "e60ff208-1037-44e9-99c2-8436066aa184",
   "metadata": {},
   "outputs": [],
   "source": []
  }
 ],
 "metadata": {
  "kernelspec": {
   "display_name": "Python 3 (ipykernel)",
   "language": "python",
   "name": "python3"
  },
  "language_info": {
   "codemirror_mode": {
    "name": "ipython",
    "version": 3
   },
   "file_extension": ".py",
   "mimetype": "text/x-python",
   "name": "python",
   "nbconvert_exporter": "python",
   "pygments_lexer": "ipython3",
   "version": "3.10.9"
  }
 },
 "nbformat": 4,
 "nbformat_minor": 5
}
