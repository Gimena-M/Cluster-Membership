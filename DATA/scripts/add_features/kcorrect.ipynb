{
 "cells": [
  {
   "cell_type": "code",
   "execution_count": 1,
   "id": "ffc62211-0289-46eb-a9e3-da5ea5337230",
   "metadata": {
    "tags": []
   },
   "outputs": [],
   "source": [
    "from kcorrect.kcorrect import Kcorrect\n",
    "import pandas as pd\n",
    "import numpy as np\n",
    "from astropy.cosmology import FlatLambdaCDM\n",
    "\n",
    "path = '/home/gimena/Documents/hsc/scripts/add_features/'  #of this file\n",
    "\n",
    "\n",
    "# Galactic extintion correction is not done in this script!!"
   ]
  },
  {
   "cell_type": "code",
   "execution_count": 12,
   "id": "ac462e43-2c58-4c62-8c56-cc44f9f5909b",
   "metadata": {
    "tags": []
   },
   "outputs": [],
   "source": [
    "# import kcorrect\n",
    "# sorted(kcorrect.response.all_responses())"
   ]
  },
  {
   "cell_type": "code",
   "execution_count": 2,
   "id": "8a920086-b650-440c-866e-4c38566d05bd",
   "metadata": {
    "tags": []
   },
   "outputs": [],
   "source": [
    "filter_files = [# list of files with response functions (from https://hsc.mtk.nao.ac.jp/ssp/survey/#filters_and_depths)\n",
    "    'hsc_g_v2018',\n",
    "    'hsc_r2_v2018',\n",
    "    'hsc_i2_v2018',\n",
    "    'hsc_z_v2018',\n",
    "    'hsc_y_v2018'\n",
    "]\n",
    "\n",
    "table_names = ['GFILTER', 'RFILTER', 'IFILTER', 'ZFILTER', 'YFILTER']\n",
    "\n",
    "# convert them to yanny parameter files...\n",
    "# Kcorrect does have some response functions for subaru, but it's missing the Y filter. Also, the i and r filters were changed in 2016 (see HSC-SSP DR2 note).\n",
    "responses = []\n",
    "for fil,nam in zip(filter_files,table_names):\n",
    "    f = pd.read_table(f'hsc_responses_all_rev4/{fil}.dat', names = ['w','r'], delim_whitespace= True)\n",
    "    f.insert(0, 'a', nam)  #name of the table\n",
    "    \n",
    "    with open(f'par_responses/{fil}.par', 'w') as par:\n",
    "        par.write('typedef struct {\\n')\n",
    "        par.write(' float lambda;\\n')\n",
    "        par.write(' float pass;\\n')\n",
    "        par.write('} '+nam+';\\n\\n')\n",
    "\n",
    "        dfAsString = f.to_string(header=False, index=False)\n",
    "        par.write(dfAsString)\n",
    "del f,fil"
   ]
  },
  {
   "cell_type": "code",
   "execution_count": 13,
   "id": "32238b1c-dd46-46e4-bff8-930313be2e79",
   "metadata": {
    "tags": []
   },
   "outputs": [],
   "source": [
    "# list of par files for each filter, with ABSOLUT PATH\n",
    "responses = [path + 'par_responses/' + fil for fil in filter_files] + ['wise_w1']\n",
    "kc = Kcorrect(responses = responses, abcorrect= True, redshift_range= [0., 3.], nredshift = 5000, cosmo= FlatLambdaCDM(H0=70, Om0=0.3))"
   ]
  },
  {
   "cell_type": "code",
   "execution_count": 15,
   "id": "81f3cd1d-a4f5-496d-a723-89f0d69ddf3e",
   "metadata": {
    "tags": []
   },
   "outputs": [],
   "source": [
    "df = pd.read_csv('../../clean-HSC-unWISE-W01.csv')\n",
    "mags = ['g_cmodel_mag', 'r_cmodel_mag', 'i_cmodel_mag', 'z_cmodel_mag', 'y_cmodel_mag', 'W1']\n",
    "errs = ['g_cmodel_magsigma', 'r_cmodel_magsigma', 'i_cmodel_magsigma', 'z_cmodel_magsigma', 'y_cmodel_magsigma', 'W1_err']"
   ]
  },
  {
   "cell_type": "code",
   "execution_count": 16,
   "id": "ab7f8106-8f3a-4a7f-9ba6-920e0d108591",
   "metadata": {},
   "outputs": [],
   "source": [
    "# convert the magnitudes to \"maggies\"\n",
    "# maggies are a linear flux density unit defined as 10^{-0.4 m_AB}  where  m_AB is the AB apparent magnitude. \n",
    "# That is, 1 maggie is the flux density in Janskys divided by 3631. \n",
    "\n",
    "# https://www.sdss3.org/dr8/algorithms/magnitudes.php\n",
    "# http://wiki.ipb.ac.rs/index.php/Astro_links\n",
    "\n",
    "maggies = pd.DataFrame()\n",
    "ivars = pd.DataFrame()\n",
    "for m,e in zip(mags, errs):\n",
    "    maggies[m] = [10**(-0.4 * mm) for mm in df[m].values]     # 10^[-0.4 * m]\n",
    "    ivars[m]=[1./(0.4*np.log(10.)*maggie*ee)**2 for ee,maggie in zip(df[e].values, maggies[m].values)]   # 1. / [0.4 * ln(10) * maggie * m_err]**2"
   ]
  },
  {
   "cell_type": "code",
   "execution_count": 17,
   "id": "118f4740-c04d-4858-bfa6-6d5514861f32",
   "metadata": {
    "tags": []
   },
   "outputs": [],
   "source": [
    "coeffs = kc.fit_coeffs(redshift = df['phot_z'].values, maggies = maggies.values, ivar = ivars.values)  \n",
    "# the docs says that it transforms maggies to the ab system.\n",
    "\n",
    "# “NNLS quitting on iteration count.” \n",
    "# This indicates that the default number of iterations for scipy.optimize.nnls was not enough. \n",
    "# Under these conditions, this code tries a much larger number of iterations. If that still fails, you will receive a traceback."
   ]
  },
  {
   "cell_type": "code",
   "execution_count": 18,
   "id": "fbebda67-afd5-4a8c-90d1-58e4b32efe35",
   "metadata": {
    "tags": []
   },
   "outputs": [
    {
     "data": {
      "text/plain": [
       "array([[-21.41873986, -21.73913808, -21.92210614, -22.00432277,\n",
       "        -22.31287258, -22.12238205],\n",
       "       [-22.35204024, -22.64136637, -22.74976456, -22.77762126,\n",
       "        -22.9611531 , -21.91420765],\n",
       "       [-20.6417381 , -21.23089985, -21.56752138, -21.71765813,\n",
       "        -21.90322229, -21.36836605],\n",
       "       ..., \n",
       "       [-22.30065355, -23.28703126, -23.36422655, -23.97480053,\n",
       "        -23.83280113, -23.4680917 ],\n",
       "       [-20.81908497, -21.38137642, -21.73959875, -21.89845585,\n",
       "        -22.14693091, -21.2651881 ],\n",
       "       [-20.62313805, -21.2415633 , -21.50489119, -21.70434321,\n",
       "        -21.93685629, -21.28668306]])"
      ]
     },
     "execution_count": 18,
     "metadata": {},
     "output_type": "execute_result"
    }
   ],
   "source": [
    "abs_mags = kc.absmag(redshift = df['phot_z'].values, maggies = maggies.values, ivar = ivars.values, coeffs = coeffs)\n",
    "abs_mags"
   ]
  },
  {
   "cell_type": "code",
   "execution_count": 22,
   "id": "127c073f-9d36-4a1c-a1d9-ca638febca12",
   "metadata": {
    "tags": []
   },
   "outputs": [],
   "source": [
    "for i,nam in enumerate(mags):\n",
    "    df[nam + '_abs'] = abs_mags[:,i]"
   ]
  }
 ],
 "metadata": {
  "kernelspec": {
   "display_name": "Python 3 (ipykernel)",
   "language": "python",
   "name": "python3"
  },
  "language_info": {
   "codemirror_mode": {
    "name": "ipython",
    "version": 3
   },
   "file_extension": ".py",
   "mimetype": "text/x-python",
   "name": "python",
   "nbconvert_exporter": "python",
   "pygments_lexer": "ipython3",
   "version": "3.11.4"
  }
 },
 "nbformat": 4,
 "nbformat_minor": 5
}
